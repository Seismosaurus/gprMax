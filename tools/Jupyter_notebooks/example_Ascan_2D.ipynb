{
  "cells": [
    {
      "cell_type": "markdown",
      "metadata": {
        "id": "zsh_y1XDi0Sr"
      },
      "source": [
        "# A-scan from a metal cylinder (2D)\n",
        "\n",
        "This example is the GPR modelling equivalent of 'Hello World'! It demonstrates how to simulate a single trace (A-scan) from a metal cylinder buried in a dielectric half-space. The input needed to create the model is:\n",
        "\n",
        "### my_cylinder_Ascan_2D.in"
      ]
    },
    {
      "cell_type": "code",
      "execution_count": 1,
      "metadata": {
        "id": "iyvtR1KXi0Ss",
        "outputId": "a0bb32a0-19b2-4d6b-9da1-e5758da1afa9",
        "colab": {
          "base_uri": "https://localhost:8080/",
          "height": 478
        }
      },
      "outputs": [
        {
          "output_type": "stream",
          "name": "stdout",
          "text": [
            "Writing ../../user_models/cylinder_Ascan_2D.in\n"
          ]
        },
        {
          "output_type": "error",
          "ename": "FileNotFoundError",
          "evalue": "[Errno 2] No such file or directory: '../../user_models/cylinder_Ascan_2D.in'",
          "traceback": [
            "\u001b[0;31m---------------------------------------------------------------------------\u001b[0m",
            "\u001b[0;31mFileNotFoundError\u001b[0m                         Traceback (most recent call last)",
            "\u001b[0;32m<ipython-input-1-b4432ad12689>\u001b[0m in \u001b[0;36m<cell line: 0>\u001b[0;34m()\u001b[0m\n\u001b[0;32m----> 1\u001b[0;31m \u001b[0mget_ipython\u001b[0m\u001b[0;34m(\u001b[0m\u001b[0;34m)\u001b[0m\u001b[0;34m.\u001b[0m\u001b[0mrun_cell_magic\u001b[0m\u001b[0;34m(\u001b[0m\u001b[0;34m'writefile'\u001b[0m\u001b[0;34m,\u001b[0m \u001b[0;34m'../../user_models/cylinder_Ascan_2D.in'\u001b[0m\u001b[0;34m,\u001b[0m \u001b[0;34m'#title: A-scan from a metal cylinder buried in a dielectric half-space\\n#domain: 0.240 0.210 0.002\\n#dx_dy_dz: 0.002 0.002 0.002\\n#time_window: 3e-9\\n\\n#material: 6 0 1 0 half_space\\n\\n#waveform: ricker 1 1.5e9 my_ricker\\n#hertzian_dipole: z 0.100 0.170 0 my_ricker\\n#rx: 0.140 0.170 0\\n\\n#box: 0 0 0 0.240 0.170 0.002 half_space\\n#cylinder: 0.120 0.080 0 0.120 0.080 0.002 0.010 pec\\n\\n#geometry_view: 0 0 0 0.240 0.210 0.002 0.002 0.002 0.002 cylinder_half_space n\\n'\u001b[0m\u001b[0;34m)\u001b[0m\u001b[0;34m\u001b[0m\u001b[0;34m\u001b[0m\u001b[0m\n\u001b[0m",
            "\u001b[0;32m/usr/local/lib/python3.11/dist-packages/google/colab/_shell.py\u001b[0m in \u001b[0;36mrun_cell_magic\u001b[0;34m(self, magic_name, line, cell)\u001b[0m\n\u001b[1;32m    332\u001b[0m     \u001b[0;32mif\u001b[0m \u001b[0mline\u001b[0m \u001b[0;32mand\u001b[0m \u001b[0;32mnot\u001b[0m \u001b[0mcell\u001b[0m\u001b[0;34m:\u001b[0m\u001b[0;34m\u001b[0m\u001b[0;34m\u001b[0m\u001b[0m\n\u001b[1;32m    333\u001b[0m       \u001b[0mcell\u001b[0m \u001b[0;34m=\u001b[0m \u001b[0;34m' '\u001b[0m\u001b[0;34m\u001b[0m\u001b[0;34m\u001b[0m\u001b[0m\n\u001b[0;32m--> 334\u001b[0;31m     \u001b[0;32mreturn\u001b[0m \u001b[0msuper\u001b[0m\u001b[0;34m(\u001b[0m\u001b[0;34m)\u001b[0m\u001b[0;34m.\u001b[0m\u001b[0mrun_cell_magic\u001b[0m\u001b[0;34m(\u001b[0m\u001b[0mmagic_name\u001b[0m\u001b[0;34m,\u001b[0m \u001b[0mline\u001b[0m\u001b[0;34m,\u001b[0m \u001b[0mcell\u001b[0m\u001b[0;34m)\u001b[0m\u001b[0;34m\u001b[0m\u001b[0;34m\u001b[0m\u001b[0m\n\u001b[0m\u001b[1;32m    335\u001b[0m \u001b[0;34m\u001b[0m\u001b[0m\n\u001b[1;32m    336\u001b[0m \u001b[0;34m\u001b[0m\u001b[0m\n",
            "\u001b[0;32m/usr/local/lib/python3.11/dist-packages/IPython/core/interactiveshell.py\u001b[0m in \u001b[0;36mrun_cell_magic\u001b[0;34m(self, magic_name, line, cell)\u001b[0m\n\u001b[1;32m   2471\u001b[0m             \u001b[0;32mwith\u001b[0m \u001b[0mself\u001b[0m\u001b[0;34m.\u001b[0m\u001b[0mbuiltin_trap\u001b[0m\u001b[0;34m:\u001b[0m\u001b[0;34m\u001b[0m\u001b[0;34m\u001b[0m\u001b[0m\n\u001b[1;32m   2472\u001b[0m                 \u001b[0margs\u001b[0m \u001b[0;34m=\u001b[0m \u001b[0;34m(\u001b[0m\u001b[0mmagic_arg_s\u001b[0m\u001b[0;34m,\u001b[0m \u001b[0mcell\u001b[0m\u001b[0;34m)\u001b[0m\u001b[0;34m\u001b[0m\u001b[0;34m\u001b[0m\u001b[0m\n\u001b[0;32m-> 2473\u001b[0;31m                 \u001b[0mresult\u001b[0m \u001b[0;34m=\u001b[0m \u001b[0mfn\u001b[0m\u001b[0;34m(\u001b[0m\u001b[0;34m*\u001b[0m\u001b[0margs\u001b[0m\u001b[0;34m,\u001b[0m \u001b[0;34m**\u001b[0m\u001b[0mkwargs\u001b[0m\u001b[0;34m)\u001b[0m\u001b[0;34m\u001b[0m\u001b[0;34m\u001b[0m\u001b[0m\n\u001b[0m\u001b[1;32m   2474\u001b[0m             \u001b[0;32mreturn\u001b[0m \u001b[0mresult\u001b[0m\u001b[0;34m\u001b[0m\u001b[0;34m\u001b[0m\u001b[0m\n\u001b[1;32m   2475\u001b[0m \u001b[0;34m\u001b[0m\u001b[0m\n",
            "\u001b[0;32m<decorator-gen-98>\u001b[0m in \u001b[0;36mwritefile\u001b[0;34m(self, line, cell)\u001b[0m\n",
            "\u001b[0;32m/usr/local/lib/python3.11/dist-packages/IPython/core/magic.py\u001b[0m in \u001b[0;36m<lambda>\u001b[0;34m(f, *a, **k)\u001b[0m\n\u001b[1;32m    185\u001b[0m     \u001b[0;31m# but it's overkill for just that one bit of state.\u001b[0m\u001b[0;34m\u001b[0m\u001b[0;34m\u001b[0m\u001b[0m\n\u001b[1;32m    186\u001b[0m     \u001b[0;32mdef\u001b[0m \u001b[0mmagic_deco\u001b[0m\u001b[0;34m(\u001b[0m\u001b[0marg\u001b[0m\u001b[0;34m)\u001b[0m\u001b[0;34m:\u001b[0m\u001b[0;34m\u001b[0m\u001b[0;34m\u001b[0m\u001b[0m\n\u001b[0;32m--> 187\u001b[0;31m         \u001b[0mcall\u001b[0m \u001b[0;34m=\u001b[0m \u001b[0;32mlambda\u001b[0m \u001b[0mf\u001b[0m\u001b[0;34m,\u001b[0m \u001b[0;34m*\u001b[0m\u001b[0ma\u001b[0m\u001b[0;34m,\u001b[0m \u001b[0;34m**\u001b[0m\u001b[0mk\u001b[0m\u001b[0;34m:\u001b[0m \u001b[0mf\u001b[0m\u001b[0;34m(\u001b[0m\u001b[0;34m*\u001b[0m\u001b[0ma\u001b[0m\u001b[0;34m,\u001b[0m \u001b[0;34m**\u001b[0m\u001b[0mk\u001b[0m\u001b[0;34m)\u001b[0m\u001b[0;34m\u001b[0m\u001b[0;34m\u001b[0m\u001b[0m\n\u001b[0m\u001b[1;32m    188\u001b[0m \u001b[0;34m\u001b[0m\u001b[0m\n\u001b[1;32m    189\u001b[0m         \u001b[0;32mif\u001b[0m \u001b[0mcallable\u001b[0m\u001b[0;34m(\u001b[0m\u001b[0marg\u001b[0m\u001b[0;34m)\u001b[0m\u001b[0;34m:\u001b[0m\u001b[0;34m\u001b[0m\u001b[0;34m\u001b[0m\u001b[0m\n",
            "\u001b[0;32m/usr/local/lib/python3.11/dist-packages/IPython/core/magics/osm.py\u001b[0m in \u001b[0;36mwritefile\u001b[0;34m(self, line, cell)\u001b[0m\n\u001b[1;32m    854\u001b[0m \u001b[0;34m\u001b[0m\u001b[0m\n\u001b[1;32m    855\u001b[0m         \u001b[0mmode\u001b[0m \u001b[0;34m=\u001b[0m \u001b[0;34m'a'\u001b[0m \u001b[0;32mif\u001b[0m \u001b[0margs\u001b[0m\u001b[0;34m.\u001b[0m\u001b[0mappend\u001b[0m \u001b[0;32melse\u001b[0m \u001b[0;34m'w'\u001b[0m\u001b[0;34m\u001b[0m\u001b[0;34m\u001b[0m\u001b[0m\n\u001b[0;32m--> 856\u001b[0;31m         \u001b[0;32mwith\u001b[0m \u001b[0mio\u001b[0m\u001b[0;34m.\u001b[0m\u001b[0mopen\u001b[0m\u001b[0;34m(\u001b[0m\u001b[0mfilename\u001b[0m\u001b[0;34m,\u001b[0m \u001b[0mmode\u001b[0m\u001b[0;34m,\u001b[0m \u001b[0mencoding\u001b[0m\u001b[0;34m=\u001b[0m\u001b[0;34m'utf-8'\u001b[0m\u001b[0;34m)\u001b[0m \u001b[0;32mas\u001b[0m \u001b[0mf\u001b[0m\u001b[0;34m:\u001b[0m\u001b[0;34m\u001b[0m\u001b[0;34m\u001b[0m\u001b[0m\n\u001b[0m\u001b[1;32m    857\u001b[0m             \u001b[0mf\u001b[0m\u001b[0;34m.\u001b[0m\u001b[0mwrite\u001b[0m\u001b[0;34m(\u001b[0m\u001b[0mcell\u001b[0m\u001b[0;34m)\u001b[0m\u001b[0;34m\u001b[0m\u001b[0;34m\u001b[0m\u001b[0m\n",
            "\u001b[0;31mFileNotFoundError\u001b[0m: [Errno 2] No such file or directory: '../../user_models/cylinder_Ascan_2D.in'"
          ]
        }
      ],
      "source": [
        "%%writefile ../../user_models/cylinder_Ascan_2D.in\n",
        "#title: A-scan from a metal cylinder buried in a dielectric half-space\n",
        "#domain: 0.240 0.210 0.002\n",
        "#dx_dy_dz: 0.002 0.002 0.002\n",
        "#time_window: 3e-9\n",
        "\n",
        "#material: 6 0 1 0 half_space\n",
        "\n",
        "#waveform: ricker 1 1.5e9 my_ricker\n",
        "#hertzian_dipole: z 0.100 0.170 0 my_ricker\n",
        "#rx: 0.140 0.170 0\n",
        "\n",
        "#box: 0 0 0 0.240 0.170 0.002 half_space\n",
        "#cylinder: 0.120 0.080 0 0.120 0.080 0.002 0.010 pec\n",
        "\n",
        "#geometry_view: 0 0 0 0.240 0.210 0.002 0.002 0.002 0.002 cylinder_half_space n"
      ]
    },
    {
      "cell_type": "markdown",
      "metadata": {
        "id": "Vo4X0Hhoi0St"
      },
      "source": [
        "### Geometry of a metal cylinder buried in a dielectric half-space\n",
        "<img style=\"float: left\" src=\"https://github.com/Seismosaurus/gprMax-tests/blob/master/tools/Jupyter_notebooks/cylinder_half_space_geo.png?raw=1\" width=\"50%\" height=\"50%\" />"
      ]
    },
    {
      "cell_type": "markdown",
      "metadata": {
        "id": "jkauZWhxi0Su"
      },
      "source": [
        "The geometry of the scenario is straightforward - the transparent area around the boundary of the domain represents the PML region. The red cell is the source and the blue cell is the receiver.\n",
        "\n",
        "For this initial example a detailed description of what each command in the input file does and why each command was used is given. The following steps explain the process of building the input file:"
      ]
    },
    {
      "cell_type": "markdown",
      "metadata": {
        "id": "h-aSWu92i0Su"
      },
      "source": [
        "### 1. Determine the constitutive parameters for the materials\n",
        "\n",
        "There will be three different materials in the model representing air, the dielectric half-space, and the metal cylinder. Air (free space) already exists as a built-in material in gprMax which can be accessed using the ``free_space`` identifier. The metal cylinder will be modelled as a Perfect Electric Conductor, which again exists as a built-in material in gprMax and can be accessed using the ``pec`` identifier. So the only material which has to be defined is for the dielectric half-space. It is a non-magnetic material, i.e. $\\mu_r=1$ and $\\sigma_*=0$ and with a relative permittivity of six, $\\epsilon_r=6$, and zero conductivity, $\\sigma=0$. The identifier ``half_space`` will be used.\n",
        "\n",
        "    #material: 6 0 1 0 half_space\n",
        "\n",
        "### 2. Determine the source type and excitation frequency\n",
        "\n",
        "These should generally be known, often based on the GPR system or scenario being modelled. Low frequencies are used where significant penetration depth is important, whereas high frequencies are used where less penetration and better resolution are required. In this case a theoretical Hertzian dipole source fed with a Ricker waveform with a centre frequency of $f_c=1.5~\\textrm{GHz}$ will be used to simulate the GPR antenna (see the bowtie antenna example model for how to include a model of the actual GPR antenna in the simulation).\n",
        "\n",
        "    #waveform: ricker 1 1.5e9 my_ricker\n",
        "    #hertzian_dipole: z 0.100 0.170 0 my_ricker\n",
        "\n",
        "The Ricker waveform is created with the ``#waveform`` command, specifying an amplitude of one, centre frequency of 1.5 GHz and picking an arbitrary identifier of ``my_ricker``. The Hertzian dipole source is created using the ``#hertzian_dipole`` command, specifying a z direction polarisation (perpendicular to the survey direction if a B-scan were being created), location on the surface of the slab, and using the Ricker waveform already created.\n",
        "\n",
        "### 3. Calculate a spatial resolution and domain size\n",
        "\n",
        "In the guidance section it was stated that a good *rule-of-thumb* was that the spatial resolution should be one tenth of the smallest wavelength present in the model. To determine the smallest wavelength, the highest frequency and lowest velocity present in the model are required. The highest frequency is not the centre frequency of the Ricker waveform!  \n",
        "\n",
        "You can use the following code to plot builtin waveforms and their FFTs."
      ]
    },
    {
      "cell_type": "code",
      "execution_count": null,
      "metadata": {
        "id": "bDcG5Czoi0Sv"
      },
      "outputs": [],
      "source": [
        "%matplotlib inline\n",
        "from gprMax.waveforms import Waveform\n",
        "from tools.plot_source_wave import check_timewindow, mpl_plot\n",
        "\n",
        "w = Waveform()\n",
        "w.type = 'ricker'\n",
        "w.amp = 1\n",
        "w.freq = 1.5e9\n",
        "timewindow = 3e-9\n",
        "dt = 1.926e-12\n",
        "\n",
        "timewindow, iterations = check_timewindow(timewindow, dt)\n",
        "plt = mpl_plot(w, timewindow, dt, iterations, fft=True)"
      ]
    },
    {
      "cell_type": "markdown",
      "metadata": {
        "id": "vr0i9Sr5i0Sv"
      },
      "source": [
        "By examining the spectrum of a Ricker waveform it is evident much higher frequencies are present, i.e. at a level -40dB from the centre frequency, frequencies 2-3 times as high are present. In this case the highest significant frequency present in the model is likely to be around 4 GHz. To calculate the wavelength at 4 GHz in the half-space (which has the lowest velocity) use:\n",
        "\n",
        "$$\\lambda = \\frac{c}{f \\sqrt{\\epsilon_r}}$$"
      ]
    },
    {
      "cell_type": "code",
      "execution_count": null,
      "metadata": {
        "scrolled": true,
        "id": "D1r4uaezi0Sv"
      },
      "outputs": [],
      "source": [
        "from math import sqrt\n",
        "\n",
        "# Speed of light in vacuum (m/s)\n",
        "c = 299792458\n",
        "\n",
        "# Highest relative permittivity present in model\n",
        "er = 6\n",
        "\n",
        "# Maximum frequency present in model\n",
        "fmax = 4e9\n",
        "\n",
        "# Minimum wavelength\n",
        "wmin = c / (fmax * sqrt(er))\n",
        "\n",
        "# Maximum spatial resolution\n",
        "dmin = wmin / 10\n",
        "\n",
        "print('Minimum wavelength: {:g} m'.format(wmin))\n",
        "print('Maximum spatial resolution: {:g} m'.format(dmin))"
      ]
    },
    {
      "cell_type": "markdown",
      "metadata": {
        "id": "_ryWr9mTi0Sw"
      },
      "source": [
        "This would give a minimum spatial resolution of 3 mm. However, the diameter of the cylinder is 20 mm so would be resolved to 7 cells. Therefore a better choice would be 2 mm which resolves the diameter of the rebar to 10 cells.\n",
        "\n",
        "    #dx_dy_dz: 0.002 0.002 0.002\n",
        "\n",
        "The domain size should be enough to enclose the volume of interest, plus allow 10 cells (if using the default value) for the PML absorbing boundary conditions and approximately another 10 cells of between the PML and any objects of interest. In this case the plan is to take a B-scan of the scenario (in the next example) so the domain should be large enough to do that. Although this is a 2D model one cell must be specified in the infinite direction (in this case the z direction) of the domain.\n",
        "\n",
        "    #domain: 0.240 0.210 0.002\n",
        "\n",
        "### 4. Choose a time window\n",
        "\n",
        "It is desired to see the reflection from the cylinder, therefore the time window must be long enough to allow the electromagnetic waves to propagate from the source through the half-space to the cylinder and be reflected back to the receiver."
      ]
    },
    {
      "cell_type": "code",
      "execution_count": null,
      "metadata": {
        "id": "OevLU48ci0Sw"
      },
      "outputs": [],
      "source": [
        "d = 0.090\n",
        "t = (2 * d) / (c / sqrt(6))\n",
        "print('Minimum time window: {:g} s'.format(t))"
      ]
    },
    {
      "cell_type": "markdown",
      "metadata": {
        "id": "bV_Ter8ki0Sx"
      },
      "source": [
        "This is the minimum time required, but the source waveform has a width of 1.2 ns, to allow for the entire source waveform to be reflected back to the receiver an initial time window of 3 ns will be tested.\n",
        "\n",
        "    #time_window: 3e-9\n",
        "\n",
        "The time step required for the model is automatically calculated using the CFL condition (for this case in 2D).\n",
        "\n",
        "### 5. Create the objects\n",
        "\n",
        "Now physical objects can be created for the half-space and the cylinder. First the ``#box`` command will be used to create the half-space and then the ``#cylinder`` command will be given which will overwrite the properties of the half-space with those of the cylinder at the location of the cylinder.\n",
        "\n",
        "    #box: 0 0 0 0.240 0.170 0.002 half_space\n",
        "    #cylinder: 0.120 0.080 0 0.120 0.080 0.002 0.010 pec"
      ]
    },
    {
      "cell_type": "markdown",
      "metadata": {
        "id": "TvhwVaqoi0Sx"
      },
      "source": [
        "## Run the model\n",
        "\n",
        "You can now run the model using:\n",
        "    \n",
        "    python -m gprMax user_models/cylinder_Ascan_2D.in\n",
        "\n",
        "**Tip**: You can use the ``--geometry-only`` command line argument to build a model and produce any geometry views but not run the simulation. This option is useful for checking the geometry of the model is correct."
      ]
    },
    {
      "cell_type": "code",
      "execution_count": null,
      "metadata": {
        "id": "y7XcPIyyi0Sx"
      },
      "outputs": [],
      "source": [
        "import os\n",
        "from gprMax.gprMax import api\n",
        "\n",
        "filename = os.path.join(os.pardir, os.pardir, 'user_models', 'cylinder_Ascan_2D.in')\n",
        "api(filename, n=1, geometry_only=False)"
      ]
    },
    {
      "cell_type": "markdown",
      "metadata": {
        "id": "1E8oc-cJi0Sx"
      },
      "source": [
        "## View the results\n",
        "\n",
        "### Plot the A-scan\n",
        "\n",
        "You should have produced an output file ``cylinder_Ascan_2D.out``. You can view the results using:\n",
        "\n",
        "    python -m tools.plot_Ascan user_models/cylinder_Ascan_2D.out\n",
        "    \n",
        "You can use the following code to experiment with plotting different field/current components."
      ]
    },
    {
      "cell_type": "code",
      "execution_count": null,
      "metadata": {
        "id": "xDI36FQti0Sx"
      },
      "outputs": [],
      "source": [
        "%matplotlib inline\n",
        "import os\n",
        "from gprMax.receivers import Rx\n",
        "from tools.plot_Ascan import mpl_plot\n",
        "\n",
        "filename = os.path.join(os.pardir, os.pardir, 'user_models', 'cylinder_Ascan_2D.out')\n",
        "outputs = Rx.defaultoutputs\n",
        "#outputs = ['Ez']\n",
        "plt = mpl_plot(filename, outputs, fft=False)"
      ]
    }
  ],
  "metadata": {
    "anaconda-cloud": {},
    "kernelspec": {
      "display_name": "Python [default]",
      "language": "python",
      "name": "python3"
    },
    "language_info": {
      "codemirror_mode": {
        "name": "ipython",
        "version": 3
      },
      "file_extension": ".py",
      "mimetype": "text/x-python",
      "name": "python",
      "nbconvert_exporter": "python",
      "pygments_lexer": "ipython3",
      "version": "3.12.4"
    },
    "colab": {
      "provenance": []
    }
  },
  "nbformat": 4,
  "nbformat_minor": 0
}